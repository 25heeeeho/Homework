{
  "nbformat": 4,
  "nbformat_minor": 0,
  "metadata": {
    "colab": {
      "provenance": [],
      "authorship_tag": "ABX9TyO3WkfCaldecLBxLp2+SvwH",
      "include_colab_link": true
    },
    "kernelspec": {
      "name": "python3",
      "display_name": "Python 3"
    },
    "language_info": {
      "name": "python"
    }
  },
  "cells": [
    {
      "cell_type": "markdown",
      "metadata": {
        "id": "view-in-github",
        "colab_type": "text"
      },
      "source": [
        "<a href=\"https://colab.research.google.com/github/25heeeeho/Homework/blob/main/Untitled138.ipynb\" target=\"_parent\"><img src=\"https://colab.research.google.com/assets/colab-badge.svg\" alt=\"Open In Colab\"/></a>"
      ]
    },
    {
      "cell_type": "code",
      "execution_count": 1,
      "metadata": {
        "colab": {
          "base_uri": "https://localhost:8080/"
        },
        "id": "1zF2QPEdDDat",
        "outputId": "d61bcdbf-f840-4366-dc61-93705cf90215"
      },
      "outputs": [
        {
          "output_type": "stream",
          "name": "stdout",
          "text": [
            "숫자를 입력하세요:a\n",
            "입력한 내용이 숫자가 아닙니다!\n"
          ]
        }
      ],
      "source": [
        "intList = range(10)\n",
        "try:\n",
        "  idx = int(input('숫자를 입력하세요:'))\n",
        "  print(intList[idx])\n",
        "except ValueError:\n",
        "  print('입력한 내용이 숫자가 아닙니다!')\n",
        "except IndexError as e:\n",
        "  print(f'인데스 오류가 발생:{e}')"
      ]
    }
  ]
}