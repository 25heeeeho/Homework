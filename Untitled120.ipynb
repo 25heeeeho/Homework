{
  "nbformat": 4,
  "nbformat_minor": 0,
  "metadata": {
    "colab": {
      "provenance": [],
      "authorship_tag": "ABX9TyPTWDAeAdN39GsLGUBlfZ1U",
      "include_colab_link": true
    },
    "kernelspec": {
      "name": "python3",
      "display_name": "Python 3"
    },
    "language_info": {
      "name": "python"
    }
  },
  "cells": [
    {
      "cell_type": "markdown",
      "metadata": {
        "id": "view-in-github",
        "colab_type": "text"
      },
      "source": [
        "<a href=\"https://colab.research.google.com/github/25heeeeho/Homework/blob/main/Untitled120.ipynb\" target=\"_parent\"><img src=\"https://colab.research.google.com/assets/colab-badge.svg\" alt=\"Open In Colab\"/></a>"
      ]
    },
    {
      "cell_type": "code",
      "execution_count": 1,
      "metadata": {
        "colab": {
          "base_uri": "https://localhost:8080/"
        },
        "id": "DbJAlOpDldr_",
        "outputId": "9fb453aa-e158-4a54-b62a-a01896903869"
      },
      "outputs": [
        {
          "output_type": "stream",
          "name": "stdout",
          "text": [
            "['관우', '유비', '장비', '조운']\n"
          ]
        }
      ],
      "source": [
        "greats = {'유비':89,'관우':95,'장비':91,'조운':94}\n",
        "ret = sorted(greats)\n",
        "print(ret)"
      ]
    },
    {
      "cell_type": "code",
      "source": [
        "ret = sorted(greats.items())\n",
        "print(ret)"
      ],
      "metadata": {
        "colab": {
          "base_uri": "https://localhost:8080/"
        },
        "id": "lQWeC1kRmEOY",
        "outputId": "0426f97d-8c0d-4312-aa63-0f49e659e962"
      },
      "execution_count": 2,
      "outputs": [
        {
          "output_type": "stream",
          "name": "stdout",
          "text": [
            "[('관우', 95), ('유비', 89), ('장비', 91), ('조운', 94)]\n"
          ]
        }
      ]
    },
    {
      "cell_type": "code",
      "source": [
        "ret = sorted(greats.items(),reverse=True)\n",
        "print(ret)"
      ],
      "metadata": {
        "colab": {
          "base_uri": "https://localhost:8080/"
        },
        "id": "a6KS6MD1mObo",
        "outputId": "d8978800-12d1-4b72-8342-02fb976af76a"
      },
      "execution_count": 3,
      "outputs": [
        {
          "output_type": "stream",
          "name": "stdout",
          "text": [
            "[('조운', 94), ('장비', 91), ('유비', 89), ('관우', 95)]\n"
          ]
        }
      ]
    },
    {
      "cell_type": "code",
      "source": [
        "ret = sorted(greats.items(),key=lambda x:x[1])\n",
        "print(ret)"
      ],
      "metadata": {
        "colab": {
          "base_uri": "https://localhost:8080/"
        },
        "id": "lSbw6bl0mgU4",
        "outputId": "3dbdcd61-bdad-4083-cc82-7330307866b5"
      },
      "execution_count": 4,
      "outputs": [
        {
          "output_type": "stream",
          "name": "stdout",
          "text": [
            "[('유비', 89), ('장비', 91), ('조운', 94), ('관우', 95)]\n"
          ]
        }
      ]
    },
    {
      "cell_type": "code",
      "source": [
        "ret = sorted(greats.items(),key=lambda x:x[1],reverse=True)\n",
        "print(ret)"
      ],
      "metadata": {
        "colab": {
          "base_uri": "https://localhost:8080/"
        },
        "id": "fkQc-wS6mw-4",
        "outputId": "358c300d-aaf5-4549-c362-287ffcfb58d1"
      },
      "execution_count": 5,
      "outputs": [
        {
          "output_type": "stream",
          "name": "stdout",
          "text": [
            "[('관우', 95), ('조운', 94), ('장비', 91), ('유비', 89)]\n"
          ]
        }
      ]
    },
    {
      "cell_type": "code",
      "source": [
        "for name,level in ret:\n",
        "  print(f'<{name}>의 레벨은<{level}>입니다.')"
      ],
      "metadata": {
        "colab": {
          "base_uri": "https://localhost:8080/"
        },
        "id": "URU3aGGPm3lg",
        "outputId": "6222cb0d-d55c-4094-8d6b-05126ca85680"
      },
      "execution_count": 6,
      "outputs": [
        {
          "output_type": "stream",
          "name": "stdout",
          "text": [
            "<관우>의 레벨은<95>입니다.\n",
            "<조운>의 레벨은<94>입니다.\n",
            "<장비>의 레벨은<91>입니다.\n",
            "<유비>의 레벨은<89>입니다.\n"
          ]
        }
      ]
    }
  ]
}