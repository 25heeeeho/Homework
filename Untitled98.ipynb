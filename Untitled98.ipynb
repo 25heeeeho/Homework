{
  "nbformat": 4,
  "nbformat_minor": 0,
  "metadata": {
    "colab": {
      "provenance": [],
      "authorship_tag": "ABX9TyNlyl+K6xuZaxc/Nv6P9tjj",
      "include_colab_link": true
    },
    "kernelspec": {
      "name": "python3",
      "display_name": "Python 3"
    },
    "language_info": {
      "name": "python"
    }
  },
  "cells": [
    {
      "cell_type": "markdown",
      "metadata": {
        "id": "view-in-github",
        "colab_type": "text"
      },
      "source": [
        "<a href=\"https://colab.research.google.com/github/25heeeeho/Homework/blob/main/Untitled98.ipynb\" target=\"_parent\"><img src=\"https://colab.research.google.com/assets/colab-badge.svg\" alt=\"Open In Colab\"/></a>"
      ]
    },
    {
      "cell_type": "code",
      "execution_count": 1,
      "metadata": {
        "colab": {
          "base_uri": "https://localhost:8080/"
        },
        "id": "iUgjQwXUFrAW",
        "outputId": "d9150ad9-a917-4e84-c3e6-3cb67fd1c106"
      },
      "outputs": [
        {
          "output_type": "stream",
          "name": "stdout",
          "text": [
            "{'배', '수박', '오렌지'}\n",
            "{'배', '수박', '오렌지'}\n"
          ]
        }
      ],
      "source": [
        "fruits = {'사과','배','오렌지','수박'}\n",
        "fruits.discard('사과')\n",
        "print(fruits)\n",
        "fruits.discard('딸기')\n",
        "print(fruits)"
      ]
    }
  ]
}