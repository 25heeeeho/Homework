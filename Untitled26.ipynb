{
  "nbformat": 4,
  "nbformat_minor": 0,
  "metadata": {
    "colab": {
      "provenance": [],
      "authorship_tag": "ABX9TyOv0SYAOHBLkuYfSWJP7j5k",
      "include_colab_link": true
    },
    "kernelspec": {
      "name": "python3",
      "display_name": "Python 3"
    },
    "language_info": {
      "name": "python"
    }
  },
  "cells": [
    {
      "cell_type": "markdown",
      "metadata": {
        "id": "view-in-github",
        "colab_type": "text"
      },
      "source": [
        "<a href=\"https://colab.research.google.com/github/25heeeeho/Homework/blob/main/Untitled26.ipynb\" target=\"_parent\"><img src=\"https://colab.research.google.com/assets/colab-badge.svg\" alt=\"Open In Colab\"/></a>"
      ]
    },
    {
      "cell_type": "code",
      "execution_count": 3,
      "metadata": {
        "colab": {
          "base_uri": "https://localhost:8080/"
        },
        "id": "ccbwvu0rP18Z",
        "outputId": "5464b5b9-d843-41a1-e62b-d49ee4a71955"
      },
      "outputs": [
        {
          "output_type": "stream",
          "name": "stdout",
          "text": [
            "11113을(를)23(으)로 나누면 몫이 483, 나머지가 4입니다.\n"
          ]
        }
      ],
      "source": [
        "x = 11113\n",
        "y = 23\n",
        "ret1 = x // y\n",
        "ret2 = x % y\n",
        "print(f'{x}을(를){y}(으)로 나누면 몫이 {ret1}, 나머지가 {ret2}입니다.')"
      ]
    },
    {
      "cell_type": "code",
      "source": [
        "x = 11113\n",
        "y = 23\n",
        "ret1, ret2 = divmod(x , y)\n",
        "print(f'{x}을(를){y}(으)로 나누면 몫이 {ret1}, 나머지가 {ret2}입니다.')"
      ],
      "metadata": {
        "colab": {
          "base_uri": "https://localhost:8080/"
        },
        "id": "tiIwl4vaQuE0",
        "outputId": "47d25676-a510-435b-c069-67087ecc0557"
      },
      "execution_count": 2,
      "outputs": [
        {
          "output_type": "stream",
          "name": "stdout",
          "text": [
            "11113을(를)23(으)로 나누면 몫이 483, 나머지가 4입니다.\n"
          ]
        }
      ]
    }
  ]
}