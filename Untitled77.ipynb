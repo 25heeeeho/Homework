{
  "nbformat": 4,
  "nbformat_minor": 0,
  "metadata": {
    "colab": {
      "provenance": [],
      "authorship_tag": "ABX9TyN5RDThWxq6pDNXRhTsPDeU",
      "include_colab_link": true
    },
    "kernelspec": {
      "name": "python3",
      "display_name": "Python 3"
    },
    "language_info": {
      "name": "python"
    }
  },
  "cells": [
    {
      "cell_type": "markdown",
      "metadata": {
        "id": "view-in-github",
        "colab_type": "text"
      },
      "source": [
        "<a href=\"https://colab.research.google.com/github/25heeeeho/Homework/blob/main/Untitled77.ipynb\" target=\"_parent\"><img src=\"https://colab.research.google.com/assets/colab-badge.svg\" alt=\"Open In Colab\"/></a>"
      ]
    },
    {
      "cell_type": "code",
      "execution_count": 1,
      "metadata": {
        "id": "K9ddxTdB8eTY"
      },
      "outputs": [],
      "source": [
        "numbers = ['1004','-1','3.14','lx','50%']"
      ]
    },
    {
      "cell_type": "code",
      "source": [
        "for number in numbers:\n",
        "  print(f'\"{number}\"\\t--> {number.isdecimal()}')"
      ],
      "metadata": {
        "colab": {
          "base_uri": "https://localhost:8080/"
        },
        "id": "DFfBfqT888rm",
        "outputId": "38ba13c5-ce0e-404a-f9e5-a46c5781f963"
      },
      "execution_count": 2,
      "outputs": [
        {
          "output_type": "stream",
          "name": "stdout",
          "text": [
            "\"1004\"\t--> True\n",
            "\"-1\"\t--> False\n",
            "\"3.14\"\t--> False\n",
            "\"lx\"\t--> False\n",
            "\"50%\"\t--> False\n"
          ]
        }
      ]
    },
    {
      "cell_type": "code",
      "source": [
        "for number in numbers:\n",
        "  print(f'\"{number}\"\\t--> {number.isdigit()}')"
      ],
      "metadata": {
        "colab": {
          "base_uri": "https://localhost:8080/"
        },
        "id": "LYUtFkkS9Sqy",
        "outputId": "1079fa1c-56ba-4d40-b26f-4c6987c27ac4"
      },
      "execution_count": 3,
      "outputs": [
        {
          "output_type": "stream",
          "name": "stdout",
          "text": [
            "\"1004\"\t--> True\n",
            "\"-1\"\t--> False\n",
            "\"3.14\"\t--> False\n",
            "\"lx\"\t--> False\n",
            "\"50%\"\t--> False\n"
          ]
        }
      ]
    },
    {
      "cell_type": "code",
      "source": [
        "for number in numbers:\n",
        "  print(f'\"{number}\"\\t--> {number.isnumeric()}')"
      ],
      "metadata": {
        "colab": {
          "base_uri": "https://localhost:8080/"
        },
        "id": "es1S9xoa9m5B",
        "outputId": "933b5ef0-4569-4916-ba99-07645d6f75de"
      },
      "execution_count": 4,
      "outputs": [
        {
          "output_type": "stream",
          "name": "stdout",
          "text": [
            "\"1004\"\t--> True\n",
            "\"-1\"\t--> False\n",
            "\"3.14\"\t--> False\n",
            "\"lx\"\t--> False\n",
            "\"50%\"\t--> False\n"
          ]
        }
      ]
    }
  ]
}