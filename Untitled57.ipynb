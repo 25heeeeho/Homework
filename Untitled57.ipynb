{
  "nbformat": 4,
  "nbformat_minor": 0,
  "metadata": {
    "colab": {
      "provenance": [],
      "authorship_tag": "ABX9TyPg6hE3S8uMQIsw6dQKBjLV",
      "include_colab_link": true
    },
    "kernelspec": {
      "name": "python3",
      "display_name": "Python 3"
    },
    "language_info": {
      "name": "python"
    }
  },
  "cells": [
    {
      "cell_type": "markdown",
      "metadata": {
        "id": "view-in-github",
        "colab_type": "text"
      },
      "source": [
        "<a href=\"https://colab.research.google.com/github/25heeeeho/Homework/blob/main/Untitled57.ipynb\" target=\"_parent\"><img src=\"https://colab.research.google.com/assets/colab-badge.svg\" alt=\"Open In Colab\"/></a>"
      ]
    },
    {
      "cell_type": "code",
      "execution_count": 1,
      "metadata": {
        "colab": {
          "base_uri": "https://localhost:8080/"
        },
        "id": "nHsFfbom-3dS",
        "outputId": "98e64603-e9e1-4cde-fb93-fc7dd5d75635"
      },
      "outputs": [
        {
          "output_type": "stream",
          "name": "stdout",
          "text": [
            "원본 리스트: ['사과', '배', '오렌지', '수박', '참외']\n",
            "복사본 리스트: ['사과', '배', '오렌지', '수박']\n"
          ]
        }
      ],
      "source": [
        "fruits = ['사과','배','오렌지','수박','참외']\n",
        "buffer = fruits.copy()\n",
        "del buffer[-1]\n",
        "print(f'원본 리스트: {fruits}')\n",
        "print(f'복사본 리스트: {buffer}')"
      ]
    }
  ]
}