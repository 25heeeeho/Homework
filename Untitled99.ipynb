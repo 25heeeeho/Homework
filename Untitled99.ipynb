{
  "nbformat": 4,
  "nbformat_minor": 0,
  "metadata": {
    "colab": {
      "provenance": [],
      "authorship_tag": "ABX9TyOLWGD81GBxcw4lb8ggTwSt",
      "include_colab_link": true
    },
    "kernelspec": {
      "name": "python3",
      "display_name": "Python 3"
    },
    "language_info": {
      "name": "python"
    }
  },
  "cells": [
    {
      "cell_type": "markdown",
      "metadata": {
        "id": "view-in-github",
        "colab_type": "text"
      },
      "source": [
        "<a href=\"https://colab.research.google.com/github/25heeeeho/Homework/blob/main/Untitled99.ipynb\" target=\"_parent\"><img src=\"https://colab.research.google.com/assets/colab-badge.svg\" alt=\"Open In Colab\"/></a>"
      ]
    },
    {
      "cell_type": "code",
      "execution_count": 1,
      "metadata": {
        "colab": {
          "base_uri": "https://localhost:8080/"
        },
        "id": "JBG-hMQjGqY_",
        "outputId": "86a85ee7-3a6b-4c19-c2c1-a5bddd40504d"
      },
      "outputs": [
        {
          "output_type": "stream",
          "name": "stdout",
          "text": [
            "++추출한 요소: 사과\n",
            "++ fruits: {'오렌지', '수박', '배'}\n"
          ]
        }
      ],
      "source": [
        "fruits = {'사과','배','오렌지','수박'}\n",
        "choise = fruits.pop()\n",
        "print(f'++추출한 요소: {choise}\\n++ fruits: {fruits}')"
      ]
    },
    {
      "cell_type": "code",
      "source": [
        "for_in range(len(fruits)):\n",
        "  choise = fruits.pop()\n",
        "  print(f'++ 추출한 요소: {choise}\\n++ fruits: {fruits}')\n",
        "choise = fruits.pop()"
      ],
      "metadata": {
        "colab": {
          "base_uri": "https://localhost:8080/",
          "height": 110
        },
        "id": "dagYbl22Hx5s",
        "outputId": "ffc2696a-b9fe-4497-fba8-d7aba9c37c99"
      },
      "execution_count": 2,
      "outputs": [
        {
          "output_type": "error",
          "ename": "SyntaxError",
          "evalue": "invalid syntax (ipython-input-4058400271.py, line 1)",
          "traceback": [
            "\u001b[0;36m  File \u001b[0;32m\"/tmp/ipython-input-4058400271.py\"\u001b[0;36m, line \u001b[0;32m1\u001b[0m\n\u001b[0;31m    for_in range(len(fruits)):\u001b[0m\n\u001b[0m           ^\u001b[0m\n\u001b[0;31mSyntaxError\u001b[0m\u001b[0;31m:\u001b[0m invalid syntax\n"
          ]
        }
      ]
    }
  ]
}