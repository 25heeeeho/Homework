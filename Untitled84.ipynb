{
  "nbformat": 4,
  "nbformat_minor": 0,
  "metadata": {
    "colab": {
      "provenance": [],
      "authorship_tag": "ABX9TyOMh0J4+sZ0mSOJqkEPsJp1",
      "include_colab_link": true
    },
    "kernelspec": {
      "name": "python3",
      "display_name": "Python 3"
    },
    "language_info": {
      "name": "python"
    }
  },
  "cells": [
    {
      "cell_type": "markdown",
      "metadata": {
        "id": "view-in-github",
        "colab_type": "text"
      },
      "source": [
        "<a href=\"https://colab.research.google.com/github/25heeeeho/Homework/blob/main/Untitled84.ipynb\" target=\"_parent\"><img src=\"https://colab.research.google.com/assets/colab-badge.svg\" alt=\"Open In Colab\"/></a>"
      ]
    },
    {
      "cell_type": "code",
      "execution_count": 1,
      "metadata": {
        "colab": {
          "base_uri": "https://localhost:8080/"
        },
        "id": "G3e2Khk8ESD0",
        "outputId": "3cd958ae-957e-401b-98ab-03028377450b"
      },
      "outputs": [
        {
          "output_type": "stream",
          "name": "stdout",
          "text": [
            "A LOT OF THINGS OCCUR EACH DAY!\n",
            "a lot of things occur each day!\n",
            "A lot of things occur Each Day!\n"
          ]
        }
      ],
      "source": [
        "lyrics = 'A lot of things occur Each Day!'\n",
        "print(lyrics.upper())\n",
        "print(lyrics.lower())\n",
        "print(lyrics)"
      ]
    }
  ]
}