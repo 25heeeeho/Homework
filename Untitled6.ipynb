{
  "nbformat": 4,
  "nbformat_minor": 0,
  "metadata": {
    "colab": {
      "provenance": [],
      "authorship_tag": "ABX9TyNqHttZWl8u+l9vIIxe50X9",
      "include_colab_link": true
    },
    "kernelspec": {
      "name": "python3",
      "display_name": "Python 3"
    },
    "language_info": {
      "name": "python"
    }
  },
  "cells": [
    {
      "cell_type": "markdown",
      "metadata": {
        "id": "view-in-github",
        "colab_type": "text"
      },
      "source": [
        "<a href=\"https://colab.research.google.com/github/25heeeeho/Homework/blob/main/Untitled6.ipynb\" target=\"_parent\"><img src=\"https://colab.research.google.com/assets/colab-badge.svg\" alt=\"Open In Colab\"/></a>"
      ]
    },
    {
      "cell_type": "code",
      "execution_count": 1,
      "metadata": {
        "id": "TyuDcc54jrJH"
      },
      "outputs": [],
      "source": [
        "name = '홍길동'\n",
        "age = 17\n",
        "weight = 70.7\n",
        "is_badman = False"
      ]
    },
    {
      "cell_type": "code",
      "source": [
        "name: str = '홍길동'\n",
        "age: int = 17\n",
        "weight: float = 70.7\n",
        "is_badman: bool = False"
      ],
      "metadata": {
        "id": "r-lI6ULdj7pX"
      },
      "execution_count": 2,
      "outputs": []
    },
    {
      "cell_type": "code",
      "source": [
        "booklist: list[str] = ['삼국지',  '수호지', '초한지']"
      ],
      "metadata": {
        "id": "SdG4N3LckQLz"
      },
      "execution_count": 3,
      "outputs": []
    },
    {
      "cell_type": "code",
      "source": [
        "island: tuple[str, float, float] = ('독도',  131.52, 37.14)"
      ],
      "metadata": {
        "id": "EbK8J9fpkjYO"
      },
      "execution_count": 5,
      "outputs": []
    },
    {
      "cell_type": "code",
      "source": [
        "top4_familyname: dict[str, int] = {'김씨':123456, '나씨':345811, '박씨':963123, '이씨':865909}"
      ],
      "metadata": {
        "id": "79bCX073k97X"
      },
      "execution_count": 6,
      "outputs": []
    },
    {
      "cell_type": "code",
      "source": [
        "fruits: set[str] = {'사과', '배', '수박', '참외', '딸기'}"
      ],
      "metadata": {
        "id": "ir9TmM4jlfDB"
      },
      "execution_count": 7,
      "outputs": []
    },
    {
      "cell_type": "code",
      "source": [
        "print(__annotations__)"
      ],
      "metadata": {
        "colab": {
          "base_uri": "https://localhost:8080/"
        },
        "id": "fGeIS7FzleeD",
        "outputId": "4ea14a08-4faf-4124-9c5f-fa6cb9b63d99"
      },
      "execution_count": 9,
      "outputs": [
        {
          "output_type": "stream",
          "name": "stdout",
          "text": [
            "{'name': <class 'str'>, 'age': <class 'int'>, 'weight': <class 'float'>, 'is_badman': <class 'bool'>, 'booklist': list[str], 'island': tuple[str, float, float], 'top4_familyname': dict[str, int], 'fruits': set[str]}\n"
          ]
        }
      ]
    },
    {
      "cell_type": "code",
      "source": [
        "fruits: set[str] = {'사과', '배', '수박', '참외', '딸기'}\n",
        "fruits = {1, 2, 3, 4, 5}\n",
        "print(fruits)"
      ],
      "metadata": {
        "colab": {
          "base_uri": "https://localhost:8080/"
        },
        "id": "LgINVNd2mBpy",
        "outputId": "1d52aeec-8a73-40c8-8e69-0f664cbbfe46"
      },
      "execution_count": 10,
      "outputs": [
        {
          "output_type": "stream",
          "name": "stdout",
          "text": [
            "{1, 2, 3, 4, 5}\n"
          ]
        }
      ]
    }
  ]
}