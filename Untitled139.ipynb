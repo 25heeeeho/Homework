{
  "nbformat": 4,
  "nbformat_minor": 0,
  "metadata": {
    "colab": {
      "provenance": [],
      "authorship_tag": "ABX9TyP5qblNVPWXwBJCGVVV0SFV",
      "include_colab_link": true
    },
    "kernelspec": {
      "name": "python3",
      "display_name": "Python 3"
    },
    "language_info": {
      "name": "python"
    }
  },
  "cells": [
    {
      "cell_type": "markdown",
      "metadata": {
        "id": "view-in-github",
        "colab_type": "text"
      },
      "source": [
        "<a href=\"https://colab.research.google.com/github/25heeeeho/Homework/blob/main/Untitled139.ipynb\" target=\"_parent\"><img src=\"https://colab.research.google.com/assets/colab-badge.svg\" alt=\"Open In Colab\"/></a>"
      ]
    },
    {
      "cell_type": "code",
      "execution_count": 1,
      "metadata": {
        "colab": {
          "base_uri": "https://localhost:8080/"
        },
        "id": "qjMdsP5-DxTA",
        "outputId": "fe4f0b48-287b-4571-c324-32ef42dc663c"
      },
      "outputs": [
        {
          "output_type": "stream",
          "name": "stdout",
          "text": [
            "a\n",
            "dc\n",
            "문자열이 아닌 데이터<1234> 있음!\n"
          ]
        }
      ],
      "source": [
        "data = ['a','dc',1234,'def','ghij']\n",
        "try:\n",
        "  for d in data:\n",
        "    assert type(d) is str, f'문자열이 아닌 데이터<{d}> 있음!'\n",
        "    print(d)\n",
        "except AssertionError as e:\n",
        "  print(e)"
      ]
    }
  ]
}