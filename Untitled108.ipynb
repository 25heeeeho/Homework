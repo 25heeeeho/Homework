{
  "nbformat": 4,
  "nbformat_minor": 0,
  "metadata": {
    "colab": {
      "provenance": [],
      "authorship_tag": "ABX9TyOhr+R17FZJ1xzQuzMlZVEN",
      "include_colab_link": true
    },
    "kernelspec": {
      "name": "python3",
      "display_name": "Python 3"
    },
    "language_info": {
      "name": "python"
    }
  },
  "cells": [
    {
      "cell_type": "markdown",
      "metadata": {
        "id": "view-in-github",
        "colab_type": "text"
      },
      "source": [
        "<a href=\"https://colab.research.google.com/github/25heeeeho/Homework/blob/main/Untitled108.ipynb\" target=\"_parent\"><img src=\"https://colab.research.google.com/assets/colab-badge.svg\" alt=\"Open In Colab\"/></a>"
      ]
    },
    {
      "cell_type": "code",
      "execution_count": 1,
      "metadata": {
        "colab": {
          "base_uri": "https://localhost:8080/"
        },
        "id": "lcF27HxpRh3N",
        "outputId": "7f78c704-02d3-4e27-cc33-84d84ab38cf2"
      },
      "outputs": [
        {
          "output_type": "stream",
          "name": "stdout",
          "text": [
            "이름을 입력하세요:Cris\n",
            "이름이<Cris>인 출생아수는 <2,111>명입니다.\n"
          ]
        }
      ],
      "source": [
        "names = {'Mary':10999,\"Cris\":2111,'Aimy':9778,'Tom':20245}\n",
        "name = input('이름을 입력하세요:')\n",
        "if name in name:\n",
        "  print(f'이름이<{name}>인 출생아수는 <{names[name]:,d}>명입니다.')\n",
        "else:\n",
        "  print(f'딕셔너리 names에 <{name}>인 이름이 존재하지 않습니다.')"
      ]
    }
  ]
}