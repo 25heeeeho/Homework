{
  "nbformat": 4,
  "nbformat_minor": 0,
  "metadata": {
    "colab": {
      "provenance": [],
      "authorship_tag": "ABX9TyNGYAkXxZavUws1Q0Dm35zY",
      "include_colab_link": true
    },
    "kernelspec": {
      "name": "python3",
      "display_name": "Python 3"
    },
    "language_info": {
      "name": "python"
    }
  },
  "cells": [
    {
      "cell_type": "markdown",
      "metadata": {
        "id": "view-in-github",
        "colab_type": "text"
      },
      "source": [
        "<a href=\"https://colab.research.google.com/github/25heeeeho/Homework/blob/main/Untitled2.ipynb\" target=\"_parent\"><img src=\"https://colab.research.google.com/assets/colab-badge.svg\" alt=\"Open In Colab\"/></a>"
      ]
    },
    {
      "cell_type": "code",
      "execution_count": 1,
      "metadata": {
        "id": "QDbLQG0I5nps"
      },
      "outputs": [],
      "source": [
        "intData = 15\n",
        "floatData = 2.5\n",
        "complexData = 1 + 1j"
      ]
    },
    {
      "cell_type": "code",
      "source": [
        "isTrue = True\n",
        "isFalse = False"
      ],
      "metadata": {
        "id": "QQVoBq2Y56TQ"
      },
      "execution_count": 2,
      "outputs": []
    },
    {
      "cell_type": "code",
      "source": [
        "setData = {1, 2, 3, 4, 5}"
      ],
      "metadata": {
        "id": "o21aEoK-6CzW"
      },
      "execution_count": 3,
      "outputs": []
    },
    {
      "cell_type": "code",
      "source": [
        "dictData = {0:False, 1:True}"
      ],
      "metadata": {
        "id": "a-oWN0om6Ke-"
      },
      "execution_count": 4,
      "outputs": []
    }
  ]
}