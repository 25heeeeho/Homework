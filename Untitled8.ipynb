{
  "nbformat": 4,
  "nbformat_minor": 0,
  "metadata": {
    "colab": {
      "provenance": [],
      "authorship_tag": "ABX9TyPD0MP/g4NMlke8iWU9Gofd",
      "include_colab_link": true
    },
    "kernelspec": {
      "name": "python3",
      "display_name": "Python 3"
    },
    "language_info": {
      "name": "python"
    }
  },
  "cells": [
    {
      "cell_type": "markdown",
      "metadata": {
        "id": "view-in-github",
        "colab_type": "text"
      },
      "source": [
        "<a href=\"https://colab.research.google.com/github/25heeeeho/Homework/blob/main/Untitled8.ipynb\" target=\"_parent\"><img src=\"https://colab.research.google.com/assets/colab-badge.svg\" alt=\"Open In Colab\"/></a>"
      ]
    },
    {
      "cell_type": "code",
      "execution_count": 1,
      "metadata": {
        "colab": {
          "base_uri": "https://localhost:8080/"
        },
        "id": "bE-0GBrZnQSj",
        "outputId": "d63b46f9-5119-402d-faae-abb3df7d28e2"
      },
      "outputs": [
        {
          "output_type": "stream",
          "name": "stdout",
          "text": [
            "-1\n",
            "사용자가 입력한 값은<-1> 입니다.\n"
          ]
        }
      ],
      "source": [
        "userInput = input()\n",
        "print('사용자가 입력한 값은<'+ userInput +'> 입니다.')"
      ]
    },
    {
      "cell_type": "code",
      "source": [
        "userInput = input('값을 입력하세요:')\n",
        "print('사용자가 입력한 값은 <'+ userInput +'> 입니다.')"
      ],
      "metadata": {
        "colab": {
          "base_uri": "https://localhost:8080/"
        },
        "id": "TyInNlzlnxCY",
        "outputId": "7ba2b05f-b435-49fe-a2be-88ef144b3911"
      },
      "execution_count": 2,
      "outputs": [
        {
          "output_type": "stream",
          "name": "stdout",
          "text": [
            "값을 입력하세요:Yes\n",
            "사용자가 입력한 값은 <Yes> 입니다.\n"
          ]
        }
      ]
    }
  ]
}