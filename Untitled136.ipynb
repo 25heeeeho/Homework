{
  "nbformat": 4,
  "nbformat_minor": 0,
  "metadata": {
    "colab": {
      "provenance": [],
      "authorship_tag": "ABX9TyN8x55h41b3AFGFosWnzvmq",
      "include_colab_link": true
    },
    "kernelspec": {
      "name": "python3",
      "display_name": "Python 3"
    },
    "language_info": {
      "name": "python"
    }
  },
  "cells": [
    {
      "cell_type": "markdown",
      "metadata": {
        "id": "view-in-github",
        "colab_type": "text"
      },
      "source": [
        "<a href=\"https://colab.research.google.com/github/25heeeeho/Homework/blob/main/Untitled136.ipynb\" target=\"_parent\"><img src=\"https://colab.research.google.com/assets/colab-badge.svg\" alt=\"Open In Colab\"/></a>"
      ]
    },
    {
      "cell_type": "code",
      "execution_count": 1,
      "metadata": {
        "colab": {
          "base_uri": "https://localhost:8080/"
        },
        "id": "PCEEX8xoBX2X",
        "outputId": "5e65957d-2dbc-4ddd-de95-979fbe01a0a7"
      },
      "outputs": [
        {
          "output_type": "stream",
          "name": "stdout",
          "text": [
            "파일 이름:file01,파일확장자:jpg\n",
            "파일 이름:file02,파일확장자:jpg\n",
            "ERROR!!<file03>처리중 오류 발생!\n",
            "무조건 수행되는 코드!\n"
          ]
        }
      ],
      "source": [
        "fileList = ['file01.jpg','file02.jpg','file03','file04,jpg']\n",
        "try:\n",
        "  for file in fileList:\n",
        "    fname = file.split('.')\n",
        "    print(f'파일 이름:{fname[0]},파일확장자:{fname[1]}')\n",
        "except:\n",
        "  print(f'ERROR!!<{file}>처리중 오류 발생!')\n",
        "else:\n",
        "  print('모든 파일을 성공적으로 처리했습니다.')\n",
        "finally:\n",
        "  print('무조건 수행되는 코드!')"
      ]
    }
  ]
}