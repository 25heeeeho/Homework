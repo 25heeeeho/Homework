{
  "nbformat": 4,
  "nbformat_minor": 0,
  "metadata": {
    "colab": {
      "provenance": [],
      "authorship_tag": "ABX9TyMdQjBGdgDj1MD3fHxerQZc",
      "include_colab_link": true
    },
    "kernelspec": {
      "name": "python3",
      "display_name": "Python 3"
    },
    "language_info": {
      "name": "python"
    }
  },
  "cells": [
    {
      "cell_type": "markdown",
      "metadata": {
        "id": "view-in-github",
        "colab_type": "text"
      },
      "source": [
        "<a href=\"https://colab.research.google.com/github/25heeeeho/Homework/blob/main/Untitled176.ipynb\" target=\"_parent\"><img src=\"https://colab.research.google.com/assets/colab-badge.svg\" alt=\"Open In Colab\"/></a>"
      ]
    },
    {
      "cell_type": "code",
      "execution_count": 1,
      "metadata": {
        "id": "W-K4FHuW6-4c"
      },
      "outputs": [],
      "source": [
        "from urllib.request import urlopen\n",
        "\n",
        "url = 'https://www.python.org/'\n",
        "with urlopen(url) as f:\n",
        "  doc = f.read().decode()\n",
        "  with open('pythonhome.html','w') as h:\n",
        "    h.write(doc)"
      ]
    }
  ]
}