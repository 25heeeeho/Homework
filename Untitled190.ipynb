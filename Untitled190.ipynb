{
  "nbformat": 4,
  "nbformat_minor": 0,
  "metadata": {
    "colab": {
      "provenance": [],
      "authorship_tag": "ABX9TyMM6Y5/Sh8Q0HDA4alrj2ll",
      "include_colab_link": true
    },
    "kernelspec": {
      "name": "python3",
      "display_name": "Python 3"
    },
    "language_info": {
      "name": "python"
    }
  },
  "cells": [
    {
      "cell_type": "markdown",
      "metadata": {
        "id": "view-in-github",
        "colab_type": "text"
      },
      "source": [
        "<a href=\"https://colab.research.google.com/github/25heeeeho/Homework/blob/main/Untitled190.ipynb\" target=\"_parent\"><img src=\"https://colab.research.google.com/assets/colab-badge.svg\" alt=\"Open In Colab\"/></a>"
      ]
    },
    {
      "cell_type": "code",
      "execution_count": 3,
      "metadata": {
        "colab": {
          "base_uri": "https://localhost:8080/",
          "height": 112
        },
        "id": "TGQaJNvbcR0r",
        "outputId": "0ba5cbe0-df1d-4679-9db0-30f028214178"
      },
      "outputs": [
        {
          "output_type": "error",
          "ename": "IndentationError",
          "evalue": "unindent does not match any outer indentation level (<tokenize>, line 22)",
          "traceback": [
            "\u001b[0;36m  File \u001b[0;32m\"<tokenize>\"\u001b[0;36m, line \u001b[0;32m22\u001b[0m\n\u001b[0;31m    airtemp = air [:]-273.15\u001b[0m\n\u001b[0m    ^\u001b[0m\n\u001b[0;31mIndentationError\u001b[0m\u001b[0;31m:\u001b[0m unindent does not match any outer indentation level\n"
          ]
        }
      ],
      "source": [
        "import matplotlib as mpl\n",
        "import matplotlib.pyplot as plt\n",
        "from mpl_toolkits.basemap import Basemap\n",
        "import numpy as np\n",
        "from datetime import datetime,timedelta\n",
        "import netCDF4 as nc\n",
        "\n",
        "def getAirData():\n",
        "  ncfile = 'air.sig995.2024.nc'\n",
        "  f = nc.Dataset(ncfile)\n",
        "  air = f['air']\n",
        "  endidx = len(air)-1\n",
        "\n",
        "  while True:\n",
        "    idx = int(input(f'0~{endidx}사이 숫자를 입력하세요:'))\n",
        "    if idx <0 or idx>endidx:\n",
        "      print(f'{idx}:0~{endidx}사이의 숫자가 아닙니다.')\n",
        "      continue\n",
        "    else:\n",
        "      break\n",
        "\n",
        " airtemp = air [:]-273.15\n",
        " airtemp = airtemp[idx,::]\n",
        " lats = f['lat'][:]\n",
        " lons = f['lon'][:]\n",
        " elapsed_hours = f['time'][:][idx]\n",
        " datedata = datetime(1800,1,1)+timedelta(hours = elapsed_hours+9)\n",
        "\n",
        " return airtemp,lats,lons,datedata\n"
      ]
    },
    {
      "cell_type": "code",
      "source": [],
      "metadata": {
        "id": "nrgbD7-Rc-Ag"
      },
      "execution_count": null,
      "outputs": []
    }
  ]
}