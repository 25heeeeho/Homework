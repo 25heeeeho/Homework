{
  "nbformat": 4,
  "nbformat_minor": 0,
  "metadata": {
    "colab": {
      "provenance": [],
      "authorship_tag": "ABX9TyMVGnSRKRCc2HkhNCYEClp5",
      "include_colab_link": true
    },
    "kernelspec": {
      "name": "python3",
      "display_name": "Python 3"
    },
    "language_info": {
      "name": "python"
    }
  },
  "cells": [
    {
      "cell_type": "markdown",
      "metadata": {
        "id": "view-in-github",
        "colab_type": "text"
      },
      "source": [
        "<a href=\"https://colab.research.google.com/github/25heeeeho/Homework/blob/main/Untitled165.ipynb\" target=\"_parent\"><img src=\"https://colab.research.google.com/assets/colab-badge.svg\" alt=\"Open In Colab\"/></a>"
      ]
    },
    {
      "cell_type": "code",
      "execution_count": 1,
      "metadata": {
        "colab": {
          "base_uri": "https://localhost:8080/"
        },
        "id": "UXKzbS_ncr8K",
        "outputId": "ab29cfbe-f465-4d1b-e234-c7efd55c10f7"
      },
      "outputs": [
        {
          "output_type": "stream",
          "name": "stdout",
          "text": [
            "1970-01-01 00:00:00 이후 지금 현재까지 경과된 초:1760810217.006199\n"
          ]
        }
      ],
      "source": [
        "from time import time\n",
        "print(f'1970-01-01 00:00:00 이후 지금 현재까지 경과된 초:{time()}')"
      ]
    },
    {
      "cell_type": "code",
      "source": [
        "def cumalativeSum(n):\n",
        "  ret = 0\n",
        "  for i in range(1,n+1):\n",
        "    ret += i\n",
        "    return ret\n"
      ],
      "metadata": {
        "id": "l8Yq2hxKd6gj"
      },
      "execution_count": 2,
      "outputs": []
    },
    {
      "cell_type": "code",
      "source": [
        "from time import time\n",
        "\n",
        "n = 10000000\n",
        "stime = time()\n",
        "answer = cumalativeSum(n)\n",
        "etime = time()\n",
        "print(f'1에서{n:,}까지 누적합 계산 시간:{(etime-stime):.3f}초')"
      ],
      "metadata": {
        "colab": {
          "base_uri": "https://localhost:8080/"
        },
        "id": "VgPK2b9_eULz",
        "outputId": "f113dd11-ba64-4630-9ddb-17bc952fe108"
      },
      "execution_count": 3,
      "outputs": [
        {
          "output_type": "stream",
          "name": "stdout",
          "text": [
            "1에서10,000,000까지 누적합 계산 시간:0.000초\n"
          ]
        }
      ]
    }
  ]
}