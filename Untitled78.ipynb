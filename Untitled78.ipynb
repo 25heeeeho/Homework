{
  "nbformat": 4,
  "nbformat_minor": 0,
  "metadata": {
    "colab": {
      "provenance": [],
      "authorship_tag": "ABX9TyN7MVVdLNPtz9IqGxcaievi",
      "include_colab_link": true
    },
    "kernelspec": {
      "name": "python3",
      "display_name": "Python 3"
    },
    "language_info": {
      "name": "python"
    }
  },
  "cells": [
    {
      "cell_type": "markdown",
      "metadata": {
        "id": "view-in-github",
        "colab_type": "text"
      },
      "source": [
        "<a href=\"https://colab.research.google.com/github/25heeeeho/Homework/blob/main/Untitled78.ipynb\" target=\"_parent\"><img src=\"https://colab.research.google.com/assets/colab-badge.svg\" alt=\"Open In Colab\"/></a>"
      ]
    },
    {
      "cell_type": "code",
      "execution_count": 1,
      "metadata": {
        "colab": {
          "base_uri": "https://localhost:8080/"
        },
        "id": "XgaLfoQB-MY6",
        "outputId": "262234a5-dd18-48aa-d23e-c1dfb3495f1a"
      },
      "outputs": [
        {
          "output_type": "stream",
          "name": "stdout",
          "text": [
            "홍길동;남자;18세;도적;초능력자\n"
          ]
        }
      ],
      "source": [
        "profile = ['홍길동','남자','18세','도적','초능력자']\n",
        "logData = ';'.join(profile)\n",
        "print(logData)"
      ]
    },
    {
      "cell_type": "code",
      "source": [
        "profile = ['홍길동','남자','18','도적','초능력자']\n",
        "logData = ';'.join(profile)"
      ],
      "metadata": {
        "id": "JIslNsqA-gqd"
      },
      "execution_count": 2,
      "outputs": []
    }
  ]
}