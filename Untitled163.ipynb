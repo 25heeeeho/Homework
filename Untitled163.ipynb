{
  "nbformat": 4,
  "nbformat_minor": 0,
  "metadata": {
    "colab": {
      "provenance": [],
      "authorship_tag": "ABX9TyPAs3tlC/9cI0HWUcyoqqIE",
      "include_colab_link": true
    },
    "kernelspec": {
      "name": "python3",
      "display_name": "Python 3"
    },
    "language_info": {
      "name": "python"
    }
  },
  "cells": [
    {
      "cell_type": "markdown",
      "metadata": {
        "id": "view-in-github",
        "colab_type": "text"
      },
      "source": [
        "<a href=\"https://colab.research.google.com/github/25heeeeho/Homework/blob/main/Untitled163.ipynb\" target=\"_parent\"><img src=\"https://colab.research.google.com/assets/colab-badge.svg\" alt=\"Open In Colab\"/></a>"
      ]
    },
    {
      "cell_type": "code",
      "execution_count": 1,
      "metadata": {
        "colab": {
          "base_uri": "https://localhost:8080/"
        },
        "id": "rOentxDVZgNV",
        "outputId": "a33cdb56-5f32-4efd-bc32-697fbfba8baf"
      },
      "outputs": [
        {
          "output_type": "stream",
          "name": "stdout",
          "text": [
            "<DIR>.config\n",
            "<DIR>sample_data\n"
          ]
        }
      ],
      "source": [
        "from os import listdir\n",
        "from os.path import isdir\n",
        "\n",
        "fileList = []\n",
        "dirList = []\n",
        "files = listdir('./')\n",
        "for file in files:\n",
        "  if isdir(file):\n",
        "    dirList.append(f'<DIR>{file}')\n",
        "  else:\n",
        "    fileList.append(file)\n",
        "\n",
        "fileList.sort()\n",
        "dirList.sort()\n",
        "\n",
        "for d in dirList:\n",
        "  print(d)\n",
        "\n",
        "for f in fileList:\n",
        "  print(f)"
      ]
    }
  ]
}