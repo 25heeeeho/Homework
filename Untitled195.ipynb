{
  "nbformat": 4,
  "nbformat_minor": 0,
  "metadata": {
    "colab": {
      "provenance": [],
      "authorship_tag": "ABX9TyM3mL7vLP7ovgMnzF1slqAk",
      "include_colab_link": true
    },
    "kernelspec": {
      "name": "python3",
      "display_name": "Python 3"
    },
    "language_info": {
      "name": "python"
    }
  },
  "cells": [
    {
      "cell_type": "markdown",
      "metadata": {
        "id": "view-in-github",
        "colab_type": "text"
      },
      "source": [
        "<a href=\"https://colab.research.google.com/github/25heeeeho/Homework/blob/main/Untitled195.ipynb\" target=\"_parent\"><img src=\"https://colab.research.google.com/assets/colab-badge.svg\" alt=\"Open In Colab\"/></a>"
      ]
    },
    {
      "cell_type": "code",
      "execution_count": 2,
      "metadata": {
        "colab": {
          "base_uri": "https://localhost:8080/",
          "height": 112
        },
        "id": "avXgnRwIk9Jg",
        "outputId": "82d8012e-ef1e-4e4b-9ce4-1c0d1cbd1c62"
      },
      "outputs": [
        {
          "output_type": "error",
          "ename": "SyntaxError",
          "evalue": "invalid syntax (ipython-input-3460293066.py, line 7)",
          "traceback": [
            "\u001b[0;36m  File \u001b[0;32m\"/tmp/ipython-input-3460293066.py\"\u001b[0;36m, line \u001b[0;32m7\u001b[0m\n\u001b[0;31m    def__init__(self):\u001b[0m\n\u001b[0m                     ^\u001b[0m\n\u001b[0;31mSyntaxError\u001b[0m\u001b[0;31m:\u001b[0m invalid syntax\n"
          ]
        }
      ],
      "source": [
        "import socketserver\n",
        "import threading\n",
        "\n",
        "HOST=''\n",
        "PORT = 9010\n",
        "class UserManager:\n",
        "  def__init__(self):\n",
        "    self.users = {}\n",
        "    self.lock = threading.Lock()"
      ]
    },
    {
      "cell_type": "code",
      "source": [
        "class UserManager:\n",
        "  ...\n",
        "  def addUser(self,username,conn,addr):\n",
        "    if username in self.users:\n",
        "      conn.send('이미 등록된 사용자입니다.\\n'.encode())\n",
        "      return None\n",
        "\n",
        "    with self.lock:\n",
        "      self.users[username]=(conn,addr)\n",
        "\n",
        "    self.sendMessageToAll(f'/welcome;{username};님이 입장했습니다.')\n",
        "    print(f'+++대화 참여자 수{len(self.users)}')\n",
        "\n",
        "    return username"
      ],
      "metadata": {
        "id": "wTQgP1JilUky"
      },
      "execution_count": 3,
      "outputs": []
    }
  ]
}