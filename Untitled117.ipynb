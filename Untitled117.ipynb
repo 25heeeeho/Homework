{
  "nbformat": 4,
  "nbformat_minor": 0,
  "metadata": {
    "colab": {
      "provenance": [],
      "authorship_tag": "ABX9TyMT55AF7KmD9lpkf31Hdxw+",
      "include_colab_link": true
    },
    "kernelspec": {
      "name": "python3",
      "display_name": "Python 3"
    },
    "language_info": {
      "name": "python"
    }
  },
  "cells": [
    {
      "cell_type": "markdown",
      "metadata": {
        "id": "view-in-github",
        "colab_type": "text"
      },
      "source": [
        "<a href=\"https://colab.research.google.com/github/25heeeeho/Homework/blob/main/Untitled117.ipynb\" target=\"_parent\"><img src=\"https://colab.research.google.com/assets/colab-badge.svg\" alt=\"Open In Colab\"/></a>"
      ]
    },
    {
      "cell_type": "code",
      "execution_count": 1,
      "metadata": {
        "colab": {
          "base_uri": "https://localhost:8080/"
        },
        "id": "dQXKluaiasMZ",
        "outputId": "ee31f399-f1c5-4024-f0e0-9d870de4dfd4"
      },
      "outputs": [
        {
          "output_type": "stream",
          "name": "stdout",
          "text": [
            "greats: {'유비': 89, '장비': 91, '조운': 94}\n",
            "level:95\n"
          ]
        }
      ],
      "source": [
        "greats = {'유비':89,'관우':95,'장비':91,'조운':94}\n",
        "level = greats.pop('관우')\n",
        "print(f'greats: {greats}\\nlevel:{level}')"
      ]
    },
    {
      "cell_type": "code",
      "source": [
        "level = greats.pop('제갈량')"
      ],
      "metadata": {
        "colab": {
          "base_uri": "https://localhost:8080/",
          "height": 147
        },
        "id": "-TwmZ9P0bCgb",
        "outputId": "5e3c5857-87c9-4537-84c5-435fa7d981ed"
      },
      "execution_count": 2,
      "outputs": [
        {
          "output_type": "error",
          "ename": "KeyError",
          "evalue": "'제갈량'",
          "traceback": [
            "\u001b[0;31m---------------------------------------------------------------------------\u001b[0m",
            "\u001b[0;31mKeyError\u001b[0m                                  Traceback (most recent call last)",
            "\u001b[0;32m/tmp/ipython-input-3247693713.py\u001b[0m in \u001b[0;36m<cell line: 0>\u001b[0;34m()\u001b[0m\n\u001b[0;32m----> 1\u001b[0;31m \u001b[0mlevel\u001b[0m \u001b[0;34m=\u001b[0m \u001b[0mgreats\u001b[0m\u001b[0;34m.\u001b[0m\u001b[0mpop\u001b[0m\u001b[0;34m(\u001b[0m\u001b[0;34m'제갈량'\u001b[0m\u001b[0;34m)\u001b[0m\u001b[0;34m\u001b[0m\u001b[0;34m\u001b[0m\u001b[0m\n\u001b[0m",
            "\u001b[0;31mKeyError\u001b[0m: '제갈량'"
          ]
        }
      ]
    },
    {
      "cell_type": "code",
      "source": [
        "level = greats.pop('제갈량',99)\n",
        "print(f'greats:{greats}\\n제갈량의 레벨:{level}')"
      ],
      "metadata": {
        "colab": {
          "base_uri": "https://localhost:8080/"
        },
        "id": "Ji5W3fDLbIkL",
        "outputId": "9f2bb396-bdaf-4001-981b-f3f8a44aa323"
      },
      "execution_count": 3,
      "outputs": [
        {
          "output_type": "stream",
          "name": "stdout",
          "text": [
            "greats:{'유비': 89, '장비': 91, '조운': 94}\n",
            "제갈량의 레벨:99\n"
          ]
        }
      ]
    }
  ]
}