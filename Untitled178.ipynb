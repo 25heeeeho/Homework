{
  "nbformat": 4,
  "nbformat_minor": 0,
  "metadata": {
    "colab": {
      "provenance": [],
      "authorship_tag": "ABX9TyMOhkGTN3qXnav90VDSlP1Z",
      "include_colab_link": true
    },
    "kernelspec": {
      "name": "python3",
      "display_name": "Python 3"
    },
    "language_info": {
      "name": "python"
    }
  },
  "cells": [
    {
      "cell_type": "markdown",
      "metadata": {
        "id": "view-in-github",
        "colab_type": "text"
      },
      "source": [
        "<a href=\"https://colab.research.google.com/github/25heeeeho/Homework/blob/main/Untitled178.ipynb\" target=\"_parent\"><img src=\"https://colab.research.google.com/assets/colab-badge.svg\" alt=\"Open In Colab\"/></a>"
      ]
    },
    {
      "cell_type": "code",
      "execution_count": 1,
      "metadata": {
        "colab": {
          "base_uri": "https://localhost:8080/",
          "height": 110
        },
        "id": "Ohnm7Ebm-yAF",
        "outputId": "3636b204-51a5-474b-bfad-0de01e1217a4"
      },
      "outputs": [
        {
          "output_type": "error",
          "ename": "SyntaxError",
          "evalue": "unterminated string literal (detected at line 4) (ipython-input-1875115778.py, line 4)",
          "traceback": [
            "\u001b[0;36m  File \u001b[0;32m\"/tmp/ipython-input-1875115778.py\"\u001b[0;36m, line \u001b[0;32m4\u001b[0m\n\u001b[0;31m    header={\"User-Agent\":\"Mozilla/5.0 (window NT 10.0;win64;x64)AppleWebkit\u001b[0m\n\u001b[0m                         ^\u001b[0m\n\u001b[0;31mSyntaxError\u001b[0m\u001b[0;31m:\u001b[0m unterminated string literal (detected at line 4)\n"
          ]
        }
      ],
      "source": [
        "import requests\n",
        "\n",
        "def my_urlopen(url):\n",
        "  header={\"User-Agent\":\"Mozilla/5.0 (window NT 10.0;win64;x64)AppleWebkit\n",
        "/537.36 (KHTML,like Gecko) chrome/97.0.4692.99 safari/537.36\"}\n",
        "  try:\n",
        "      with requests.get(url,headers=header) as r:\n",
        "          return r\n",
        "  except Exception as e:\n",
        "      print(f'my_urlopen() 오류:url={url}\\n{e}')\n",
        "      return None\n"
      ]
    },
    {
      "cell_type": "code",
      "source": [
        "def getImgSize(headers):\n",
        "  try:\n",
        "    imgsize = int(headers['content-length'])\n",
        "    return imgsize\n",
        "  except Exception as e:\n",
        "    print(f'getImgSize()오류:{e}')\n",
        "    return -1"
      ],
      "metadata": {
        "id": "IrL8GwSQAUH0"
      },
      "execution_count": 2,
      "outputs": []
    },
    {
      "cell_type": "code",
      "source": [
        "def saveImage(url,filename):\n",
        "  r = my_urlopen(url)\n",
        "  if r != None:\n",
        "    imgdata = r.context\n",
        "    imgsize = getImgSize(r.headers)\n",
        "    if imgsize ==-1:\n",
        "      print(f'{url}:이미지 사이즈를 알 수 없습니다.')\n",
        "      return\n",
        "\n",
        "    with open(filename,'wb') as h:\n",
        "      h.write(imgdata)\n",
        "    print(f'이미지 크기:{imgsize:,}바이트 다운로드 완료')"
      ],
      "metadata": {
        "id": "DVIELgVxA83J"
      },
      "execution_count": 3,
      "outputs": []
    },
    {
      "cell_type": "code",
      "source": [
        "url = 'http://wwww.anydle.com:8283/python200-new/sunrise_full.jpg'\n",
        "saveImage(url,'sunrise_full.jpg')"
      ],
      "metadata": {
        "colab": {
          "base_uri": "https://localhost:8080/",
          "height": 294
        },
        "id": "N2bw6WAzCGWs",
        "outputId": "1db6ea83-2208-4f81-d5fb-e4987d598b01"
      },
      "execution_count": 5,
      "outputs": [
        {
          "output_type": "error",
          "ename": "NameError",
          "evalue": "name 'my_urlopen' is not defined",
          "traceback": [
            "\u001b[0;31m---------------------------------------------------------------------------\u001b[0m",
            "\u001b[0;31mNameError\u001b[0m                                 Traceback (most recent call last)",
            "\u001b[0;32m/tmp/ipython-input-2056291649.py\u001b[0m in \u001b[0;36m<cell line: 0>\u001b[0;34m()\u001b[0m\n\u001b[1;32m      1\u001b[0m \u001b[0murl\u001b[0m \u001b[0;34m=\u001b[0m \u001b[0;34m'http://wwww.anydle.com:8283/python200-new/sunrise_full.jpg'\u001b[0m\u001b[0;34m\u001b[0m\u001b[0;34m\u001b[0m\u001b[0m\n\u001b[0;32m----> 2\u001b[0;31m \u001b[0msaveImage\u001b[0m\u001b[0;34m(\u001b[0m\u001b[0murl\u001b[0m\u001b[0;34m,\u001b[0m\u001b[0;34m'sunrise_full.jpg'\u001b[0m\u001b[0;34m)\u001b[0m\u001b[0;34m\u001b[0m\u001b[0;34m\u001b[0m\u001b[0m\n\u001b[0m",
            "\u001b[0;32m/tmp/ipython-input-8863218.py\u001b[0m in \u001b[0;36msaveImage\u001b[0;34m(url, filename)\u001b[0m\n\u001b[1;32m      1\u001b[0m \u001b[0;32mdef\u001b[0m \u001b[0msaveImage\u001b[0m\u001b[0;34m(\u001b[0m\u001b[0murl\u001b[0m\u001b[0;34m,\u001b[0m\u001b[0mfilename\u001b[0m\u001b[0;34m)\u001b[0m\u001b[0;34m:\u001b[0m\u001b[0;34m\u001b[0m\u001b[0;34m\u001b[0m\u001b[0m\n\u001b[0;32m----> 2\u001b[0;31m   \u001b[0mr\u001b[0m \u001b[0;34m=\u001b[0m \u001b[0mmy_urlopen\u001b[0m\u001b[0;34m(\u001b[0m\u001b[0murl\u001b[0m\u001b[0;34m)\u001b[0m\u001b[0;34m\u001b[0m\u001b[0;34m\u001b[0m\u001b[0m\n\u001b[0m\u001b[1;32m      3\u001b[0m   \u001b[0;32mif\u001b[0m \u001b[0mr\u001b[0m \u001b[0;34m!=\u001b[0m \u001b[0;32mNone\u001b[0m\u001b[0;34m:\u001b[0m\u001b[0;34m\u001b[0m\u001b[0;34m\u001b[0m\u001b[0m\n\u001b[1;32m      4\u001b[0m     \u001b[0mimgdata\u001b[0m \u001b[0;34m=\u001b[0m \u001b[0mr\u001b[0m\u001b[0;34m.\u001b[0m\u001b[0mcontext\u001b[0m\u001b[0;34m\u001b[0m\u001b[0;34m\u001b[0m\u001b[0m\n\u001b[1;32m      5\u001b[0m     \u001b[0mimgsize\u001b[0m \u001b[0;34m=\u001b[0m \u001b[0mgetImgSize\u001b[0m\u001b[0;34m(\u001b[0m\u001b[0mr\u001b[0m\u001b[0;34m.\u001b[0m\u001b[0mheaders\u001b[0m\u001b[0;34m)\u001b[0m\u001b[0;34m\u001b[0m\u001b[0;34m\u001b[0m\u001b[0m\n",
            "\u001b[0;31mNameError\u001b[0m: name 'my_urlopen' is not defined"
          ]
        }
      ]
    }
  ]
}