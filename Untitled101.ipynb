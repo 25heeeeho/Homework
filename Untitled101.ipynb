{
  "nbformat": 4,
  "nbformat_minor": 0,
  "metadata": {
    "colab": {
      "provenance": [],
      "authorship_tag": "ABX9TyPO2r/+whulizXr/KKCMtVp",
      "include_colab_link": true
    },
    "kernelspec": {
      "name": "python3",
      "display_name": "Python 3"
    },
    "language_info": {
      "name": "python"
    }
  },
  "cells": [
    {
      "cell_type": "markdown",
      "metadata": {
        "id": "view-in-github",
        "colab_type": "text"
      },
      "source": [
        "<a href=\"https://colab.research.google.com/github/25heeeeho/Homework/blob/main/Untitled101.ipynb\" target=\"_parent\"><img src=\"https://colab.research.google.com/assets/colab-badge.svg\" alt=\"Open In Colab\"/></a>"
      ]
    },
    {
      "cell_type": "code",
      "execution_count": 1,
      "metadata": {
        "id": "2qcHsVpWJ7oI"
      },
      "outputs": [],
      "source": [
        "population = {'서울':9407540,'부산':3320276,'인천':2964820}\n"
      ]
    },
    {
      "cell_type": "code",
      "source": [
        "population = dict(서울=9407540,부산=3320276,인천=2964820)\n",
        "print(population)"
      ],
      "metadata": {
        "colab": {
          "base_uri": "https://localhost:8080/"
        },
        "id": "I_WLlaFiKbC4",
        "outputId": "5b10bde5-e534-4bee-bf63-bd84460ed0ee"
      },
      "execution_count": 4,
      "outputs": [
        {
          "output_type": "stream",
          "name": "stdout",
          "text": [
            "{'서울': 9407540, '부산': 3320276, '인천': 2964820}\n"
          ]
        }
      ]
    },
    {
      "cell_type": "code",
      "source": [
        "population = dict([('서울',407540),('부산',3320276),('인천',2964820)])\n",
        "print(population)"
      ],
      "metadata": {
        "colab": {
          "base_uri": "https://localhost:8080/"
        },
        "id": "0PpONH7OK1D6",
        "outputId": "198e2d71-2fa1-4660-a824-22c1a058b431"
      },
      "execution_count": 5,
      "outputs": [
        {
          "output_type": "stream",
          "name": "stdout",
          "text": [
            "{'서울': 407540, '부산': 3320276, '인천': 2964820}\n"
          ]
        }
      ]
    }
  ]
}