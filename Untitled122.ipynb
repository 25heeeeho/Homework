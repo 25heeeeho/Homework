{
  "nbformat": 4,
  "nbformat_minor": 0,
  "metadata": {
    "colab": {
      "provenance": [],
      "authorship_tag": "ABX9TyMbEz/c1u5dij7V9GJWg1s4",
      "include_colab_link": true
    },
    "kernelspec": {
      "name": "python3",
      "display_name": "Python 3"
    },
    "language_info": {
      "name": "python"
    }
  },
  "cells": [
    {
      "cell_type": "markdown",
      "metadata": {
        "id": "view-in-github",
        "colab_type": "text"
      },
      "source": [
        "<a href=\"https://colab.research.google.com/github/25heeeeho/Homework/blob/main/Untitled122.ipynb\" target=\"_parent\"><img src=\"https://colab.research.google.com/assets/colab-badge.svg\" alt=\"Open In Colab\"/></a>"
      ]
    },
    {
      "cell_type": "code",
      "execution_count": 1,
      "metadata": {
        "id": "QuglfMJqqXFZ"
      },
      "outputs": [],
      "source": [
        "def setlevel(character,level=1):\n",
        "  print(f'{character}의 레벨:{level}')\n",
        "  return"
      ]
    },
    {
      "cell_type": "code",
      "source": [
        "setlevel('유비')\n",
        "setlevel('제갈량',10)"
      ],
      "metadata": {
        "colab": {
          "base_uri": "https://localhost:8080/"
        },
        "id": "hTlukaksqsAh",
        "outputId": "3856e7eb-373c-47da-c395-30994f47421d"
      },
      "execution_count": 2,
      "outputs": [
        {
          "output_type": "stream",
          "name": "stdout",
          "text": [
            "유비의 레벨:1\n",
            "제갈량의 레벨:10\n"
          ]
        }
      ]
    },
    {
      "cell_type": "code",
      "source": [
        "def setlevel(level=1,character):\n",
        "  ..."
      ],
      "metadata": {
        "colab": {
          "base_uri": "https://localhost:8080/",
          "height": 110
        },
        "id": "zNlfKF4Dq046",
        "outputId": "66ae5eaa-d249-476a-ff2d-76dc475c631a"
      },
      "execution_count": 3,
      "outputs": [
        {
          "output_type": "error",
          "ename": "SyntaxError",
          "evalue": "parameter without a default follows parameter with a default (ipython-input-1530158352.py, line 1)",
          "traceback": [
            "\u001b[0;36m  File \u001b[0;32m\"/tmp/ipython-input-1530158352.py\"\u001b[0;36m, line \u001b[0;32m1\u001b[0m\n\u001b[0;31m    def setlevel(level=1,character):\u001b[0m\n\u001b[0m                         ^\u001b[0m\n\u001b[0;31mSyntaxError\u001b[0m\u001b[0;31m:\u001b[0m parameter without a default follows parameter with a default\n"
          ]
        }
      ]
    },
    {
      "cell_type": "code",
      "source": [
        "def setlevel(character,level):\n",
        "  print(f'{character}의 레벨:{level}')\n",
        "  return"
      ],
      "metadata": {
        "id": "dv47AgOxrAbR"
      },
      "execution_count": 4,
      "outputs": []
    },
    {
      "cell_type": "code",
      "source": [
        "setlevel(level=5,character='장비')"
      ],
      "metadata": {
        "colab": {
          "base_uri": "https://localhost:8080/"
        },
        "id": "Ko6o7xQUrTa5",
        "outputId": "36ff8c77-a84d-423a-e457-5e0643fe8ba1"
      },
      "execution_count": 5,
      "outputs": [
        {
          "output_type": "stream",
          "name": "stdout",
          "text": [
            "장비의 레벨:5\n"
          ]
        }
      ]
    },
    {
      "cell_type": "code",
      "source": [
        "def setlevel(*args):\n",
        "  print(args)\n",
        "  return"
      ],
      "metadata": {
        "id": "VmzGoT4Vra-h"
      },
      "execution_count": 6,
      "outputs": []
    },
    {
      "cell_type": "code",
      "source": [
        "setlevel('관우',7)\n",
        "setlevel('조운','named',10)"
      ],
      "metadata": {
        "colab": {
          "base_uri": "https://localhost:8080/"
        },
        "id": "0imEI_KMrl7h",
        "outputId": "60ad5367-82b1-416f-c9b8-49255ce67f75"
      },
      "execution_count": 8,
      "outputs": [
        {
          "output_type": "stream",
          "name": "stdout",
          "text": [
            "('관우', 7)\n",
            "('조운', 'named', 10)\n"
          ]
        }
      ]
    },
    {
      "cell_type": "code",
      "source": [
        "def setlevel(**kwargs):\n",
        "  print(kwargs)\n",
        "  return"
      ],
      "metadata": {
        "id": "0GVfIXvGry4x"
      },
      "execution_count": 9,
      "outputs": []
    },
    {
      "cell_type": "code",
      "source": [
        "setlevel(character='조운',level=10)\n",
        "setlevel(character='황충',category='named',level=5)"
      ],
      "metadata": {
        "colab": {
          "base_uri": "https://localhost:8080/"
        },
        "id": "dMRA6w9QsPM5",
        "outputId": "be95fd7a-d695-4108-e305-088e62f83089"
      },
      "execution_count": 10,
      "outputs": [
        {
          "output_type": "stream",
          "name": "stdout",
          "text": [
            "{'character': '조운', 'level': 10}\n",
            "{'character': '황충', 'category': 'named', 'level': 5}\n"
          ]
        }
      ]
    },
    {
      "cell_type": "code",
      "source": [
        "def setlevel(character,level,*args):\n",
        "  print(f'장수:{character},레벨:{level}')\n",
        "  if len(args)!=0:\n",
        "    print(f'기타 특성:{args}')\n",
        "  return"
      ],
      "metadata": {
        "id": "fwGQJe9bsjYC"
      },
      "execution_count": 11,
      "outputs": []
    },
    {
      "cell_type": "code",
      "source": [
        "setlevel('조조',3)"
      ],
      "metadata": {
        "colab": {
          "base_uri": "https://localhost:8080/"
        },
        "id": "7LKle7RntA0y",
        "outputId": "93e9a135-e787-43ff-8d2f-eb828ec2993a"
      },
      "execution_count": 12,
      "outputs": [
        {
          "output_type": "stream",
          "name": "stdout",
          "text": [
            "장수:조조,레벨:3\n"
          ]
        }
      ]
    },
    {
      "cell_type": "code",
      "source": [
        "setlevel('유비',3,'named','leader')"
      ],
      "metadata": {
        "colab": {
          "base_uri": "https://localhost:8080/"
        },
        "id": "bhKhb9rhtEfK",
        "outputId": "6cdc8b6e-d8a7-4fb7-9306-1cb93aa731db"
      },
      "execution_count": 13,
      "outputs": [
        {
          "output_type": "stream",
          "name": "stdout",
          "text": [
            "장수:유비,레벨:3\n",
            "기타 특성:('named', 'leader')\n"
          ]
        }
      ]
    },
    {
      "cell_type": "code",
      "source": [
        "def setlevel(character,level,**kwargs):\n",
        "  print(f'장수:{character},레벨:{level}')\n",
        "  if len(kwargs)!=0:\n",
        "    for k,v in kwargs.items():\n",
        "      print(f'{k}:{v}')\n",
        "    return"
      ],
      "metadata": {
        "id": "cl2eMXmrtM1J"
      },
      "execution_count": 14,
      "outputs": []
    },
    {
      "cell_type": "code",
      "source": [
        "setlevel('조조',3)"
      ],
      "metadata": {
        "colab": {
          "base_uri": "https://localhost:8080/"
        },
        "id": "PIxnSWNbt1KS",
        "outputId": "48499cb1-a4df-463d-f411-7e78fef4a2ec"
      },
      "execution_count": 15,
      "outputs": [
        {
          "output_type": "stream",
          "name": "stdout",
          "text": [
            "장수:조조,레벨:3\n"
          ]
        }
      ]
    },
    {
      "cell_type": "code",
      "source": [
        "setlevel('유비',3,category='named',position='leader')"
      ],
      "metadata": {
        "colab": {
          "base_uri": "https://localhost:8080/"
        },
        "id": "yMNbmXmet5qa",
        "outputId": "dbb714c5-5e1b-466a-f112-c2bd714b5fd9"
      },
      "execution_count": 16,
      "outputs": [
        {
          "output_type": "stream",
          "name": "stdout",
          "text": [
            "장수:유비,레벨:3\n",
            "category:named\n",
            "position:leader\n"
          ]
        }
      ]
    }
  ]
}